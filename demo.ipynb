{
 "cells": [
  {
   "cell_type": "code",
   "execution_count": 3,
   "metadata": {},
   "outputs": [
    {
     "name": "stdout",
     "output_type": "stream",
     "text": [
      "Tirage du 04/03/2017 : 28 14 37 32 04\n",
      "Tirage du 06/10/2008 : 19 33 41 24 27\n"
     ]
    }
   ],
   "source": [
    "from fonctions_secretes_du_loto.prediction import prediction\n",
    "\n",
    "prediction('04/03/2017')\n",
    "prediction('06/10/2008')"
   ]
  }
 ],
 "metadata": {
  "kernelspec": {
   "display_name": "Python 3",
   "language": "python",
   "name": "python3"
  },
  "language_info": {
   "codemirror_mode": {
    "name": "ipython",
    "version": 3
   },
   "file_extension": ".py",
   "mimetype": "text/x-python",
   "name": "python",
   "nbconvert_exporter": "python",
   "pygments_lexer": "ipython3",
   "version": "3.7.6"
  }
 },
 "nbformat": 4,
 "nbformat_minor": 4
}
